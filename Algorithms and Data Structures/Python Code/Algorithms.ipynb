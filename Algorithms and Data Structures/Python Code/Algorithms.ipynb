{
 "cells": [
  {
   "cell_type": "markdown",
   "metadata": {},
   "source": [
    "# Key Algorithms"
   ]
  },
  {
   "cell_type": "markdown",
   "metadata": {},
   "source": [
    "## Sorting and Arrays"
   ]
  },
  {
   "cell_type": "code",
   "execution_count": 86,
   "metadata": {},
   "outputs": [],
   "source": [
    "import math\n",
    "import numpy as np\n",
    "\n",
    "#Sorting Algorithms\n",
    "#Bubble Sort\n",
    "def bubblesort(A):\n",
    "    n = len(A)\n",
    "    \n",
    "    for i in range(1,n):\n",
    "        for j in range(i):\n",
    "            if A[j] > A[i]:\n",
    "                key = A[j]\n",
    "                A[j] = A[i]\n",
    "                A[i] = key\n",
    "    return A\n",
    "            \n",
    "#insertion sort\n",
    "def insertionsort(A):\n",
    "    n = len(A)\n",
    "    for i in range(1, n):\n",
    "        key = A[i]\n",
    "        j = i - 1\n",
    "        while j > -1 and A[j] > key:\n",
    "            A[j + 1] = A[j]\n",
    "            j = j - 1\n",
    "        A[j + 1] = key\n",
    "    return A\n",
    "\n",
    "#Divide and conquer sorting\n",
    "#merge sort\n",
    "#define merge first\n",
    "def merge(A, p, q, r):\n",
    "    n1 = q - p + 1\n",
    "    n2 = r - q\n",
    "    #divide into left and right arrays\n",
    "    L = [0] * (n1 + 1) #indices 0 to n1 - 1\n",
    "    R = [0] * (n2 + 1) #indices 0 to n2 - 1\n",
    "    for i in range(n1):\n",
    "        L[i] = A[p + i] #loops from indices p to p + n1 - 1 = q\n",
    "        print(L)\n",
    "    for j in range(n2): \n",
    "        R[j] = A[q + 1 + j] #loops from indices q + 1 to q + n2 = r\n",
    "    L[n1] = float('inf')\n",
    "    R[n2] = float('inf')\n",
    "    #merge them\n",
    "    i = 0\n",
    "    j = 0\n",
    "    print(L, R)\n",
    "    for k in range(p, r + 1):\n",
    "        if L[i] <= R[j]:\n",
    "            A[k] = L[i]\n",
    "            i = i + 1\n",
    "        else:\n",
    "            A[k] = R[j]\n",
    "            j = j + 1\n",
    "            \n",
    "    return A\n",
    "        \n",
    "    \n",
    "#now that we have a well-defined merge operation, we can trivially obtain mergesort\n",
    "def mergesort(A,p,r):\n",
    "    if p < r:\n",
    "         q = (p + r - 1) // 2\n",
    "         mergesort(A, p, q)\n",
    "         mergesort(A, q + 1, r)\n",
    "         merge(A, p, q, r)\n",
    "            \n",
    "    return A\n",
    "    "
   ]
  },
  {
   "cell_type": "code",
   "execution_count": null,
   "metadata": {},
   "outputs": [],
   "source": []
  },
  {
   "cell_type": "code",
   "execution_count": null,
   "metadata": {},
   "outputs": [],
   "source": []
  },
  {
   "cell_type": "code",
   "execution_count": null,
   "metadata": {},
   "outputs": [],
   "source": []
  },
  {
   "cell_type": "code",
   "execution_count": null,
   "metadata": {},
   "outputs": [],
   "source": []
  }
 ],
 "metadata": {
  "kernelspec": {
   "display_name": "Python 3",
   "language": "python",
   "name": "python3"
  },
  "language_info": {
   "codemirror_mode": {
    "name": "ipython",
    "version": 3
   },
   "file_extension": ".py",
   "mimetype": "text/x-python",
   "name": "python",
   "nbconvert_exporter": "python",
   "pygments_lexer": "ipython3",
   "version": "3.6.4"
  }
 },
 "nbformat": 4,
 "nbformat_minor": 2
}
